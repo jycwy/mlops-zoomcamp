{
 "cells": [
  {
   "cell_type": "markdown",
   "id": "7b10e016",
   "metadata": {},
   "source": [
    "# Q1. Install MLflow"
   ]
  },
  {
   "cell_type": "code",
   "execution_count": 2,
   "id": "2f6b9c14",
   "metadata": {},
   "outputs": [
    {
     "name": "stdout",
     "output_type": "stream",
     "text": [
      "mlflow, version 2.22.0\n"
     ]
    }
   ],
   "source": [
    "!mlflow --version"
   ]
  },
  {
   "cell_type": "code",
   "execution_count": 3,
   "id": "cefb9e61",
   "metadata": {},
   "outputs": [
    {
     "name": "stdout",
     "output_type": "stream",
     "text": [
      "Python 3.9.21\n"
     ]
    }
   ],
   "source": [
    "!python -V"
   ]
  },
  {
   "cell_type": "code",
   "execution_count": 4,
   "id": "f6da03b8",
   "metadata": {},
   "outputs": [],
   "source": [
    "import pandas as pd\n",
    "import mlflow"
   ]
  },
  {
   "cell_type": "markdown",
   "id": "f0b6c744",
   "metadata": {},
   "source": [
    "# Q2. Download and preprocess the data"
   ]
  },
  {
   "cell_type": "code",
   "execution_count": 5,
   "id": "5612ffe2",
   "metadata": {},
   "outputs": [],
   "source": [
    "!python preprocess_data.py --raw_data_path ./data --dest_path ./output"
   ]
  },
  {
   "cell_type": "code",
   "execution_count": 6,
   "id": "152663cb",
   "metadata": {},
   "outputs": [
    {
     "name": "stdout",
     "output_type": "stream",
     "text": [
      "total 7016\n",
      "-rw-rw-rw- 1 codespace codespace  131004 May 26 13:08 dv.pkl\n",
      "-rw-rw-rw- 1 codespace codespace 2458698 May 26 13:08 test.pkl\n",
      "-rw-rw-rw- 1 codespace codespace 2374518 May 26 13:08 train.pkl\n",
      "-rw-rw-rw- 1 codespace codespace 2215824 May 26 13:08 val.pkl\n"
     ]
    }
   ],
   "source": [
    "!ls -l ./output"
   ]
  },
  {
   "cell_type": "markdown",
   "id": "f1a219d8",
   "metadata": {},
   "source": [
    "# Q3. Train a model with autolog"
   ]
  },
  {
   "cell_type": "code",
   "execution_count": 12,
   "id": "71bd6143",
   "metadata": {},
   "outputs": [
    {
     "data": {
      "text/plain": [
       "<Experiment: artifact_location='/workspaces/mlops-zoomcamp/02-experiment-tracking/homework/mlruns/1', creation_time=1748259163405, experiment_id='1', last_update_time=1748259163405, lifecycle_stage='active', name='hw2-nyc-taxi', tags={}>"
      ]
     },
     "execution_count": 12,
     "metadata": {},
     "output_type": "execute_result"
    }
   ],
   "source": [
    "mlflow.set_tracking_uri(\"sqlite:///mlflow.db\")\n",
    "mlflow.set_experiment(\"hw2-nyc-taxi\")"
   ]
  },
  {
   "cell_type": "code",
   "execution_count": null,
   "id": "75f6f2b6",
   "metadata": {},
   "outputs": [
    {
     "ename": "",
     "evalue": "",
     "output_type": "error",
     "traceback": [
      "\u001b[1;31mnotebook controller is DISPOSED. \n",
      "\u001b[1;31mView Jupyter <a href='command:jupyter.viewOutput'>log</a> for further details."
     ]
    },
    {
     "ename": "",
     "evalue": "",
     "output_type": "error",
     "traceback": [
      "\u001b[1;31mnotebook controller is DISPOSED. \n",
      "\u001b[1;31mView Jupyter <a href='command:jupyter.viewOutput'>log</a> for further details."
     ]
    },
    {
     "ename": "",
     "evalue": "",
     "output_type": "error",
     "traceback": [
      "\u001b[1;31mnotebook controller is DISPOSED. \n",
      "\u001b[1;31mView Jupyter <a href='command:jupyter.viewOutput'>log</a> for further details."
     ]
    }
   ],
   "source": [
    "# !python train.py"
   ]
  },
  {
   "cell_type": "code",
   "execution_count": null,
   "id": "fdf66ad3",
   "metadata": {},
   "outputs": [
    {
     "ename": "",
     "evalue": "",
     "output_type": "error",
     "traceback": [
      "\u001b[1;31mnotebook controller is DISPOSED. \n",
      "\u001b[1;31mView Jupyter <a href='command:jupyter.viewOutput'>log</a> for further details."
     ]
    },
    {
     "ename": "",
     "evalue": "",
     "output_type": "error",
     "traceback": [
      "\u001b[1;31mnotebook controller is DISPOSED. \n",
      "\u001b[1;31mView Jupyter <a href='command:jupyter.viewOutput'>log</a> for further details."
     ]
    },
    {
     "ename": "",
     "evalue": "",
     "output_type": "error",
     "traceback": [
      "\u001b[1;31mnotebook controller is DISPOSED. \n",
      "\u001b[1;31mView Jupyter <a href='command:jupyter.viewOutput'>log</a> for further details."
     ]
    }
   ],
   "source": [
    "#!mlflow ui --backend-store-uri sqlite:///mlflow.db"
   ]
  },
  {
   "cell_type": "markdown",
   "id": "6fec620a",
   "metadata": {},
   "source": [
    "answer: 2\n",
    "<img src=\"../imgs/hw2_q3.png\">"
   ]
  },
  {
   "cell_type": "markdown",
   "id": "cda038ec",
   "metadata": {},
   "source": [
    "# Q4. Launch the tracking server locally"
   ]
  },
  {
   "cell_type": "markdown",
   "id": "5f91cd08",
   "metadata": {},
   "source": [
    "run in terminal:\n",
    "\n",
    "`\n",
    "mlflow server \\\n",
    "  --backend-store-uri sqlite:///mlflow.db \\\n",
    "  --default-artifact-root ./artifacts \\\n",
    "  --host 0.0.0.0 \\\n",
    "  --port 5000\n",
    "`"
   ]
  },
  {
   "cell_type": "code",
   "execution_count": null,
   "id": "ee623638",
   "metadata": {},
   "outputs": [],
   "source": []
  },
  {
   "cell_type": "markdown",
   "id": "9908012b",
   "metadata": {},
   "source": [
    "# Q5. Tune model hyperparameters"
   ]
  },
  {
   "cell_type": "code",
   "execution_count": null,
   "id": "ddd5b4aa",
   "metadata": {},
   "outputs": [
    {
     "name": "stdout",
     "output_type": "stream",
     "text": [
      "🏃 View run sneaky-slug-234 at: http://127.0.0.1:5000/#/experiments/788866539863749456/runs/c9c37443d5f04bdca0023ad5a172e39c\n",
      "\n",
      "🧪 View experiment at: http://127.0.0.1:5000/#/experiments/788866539863749456   \n",
      "\n",
      "🏃 View run capable-snipe-767 at: http://127.0.0.1:5000/#/experiments/788866539863749456/runs/10c2e745ca934eb79792c1a2b8740c1c\n",
      "\n",
      "🧪 View experiment at: http://127.0.0.1:5000/#/experiments/788866539863749456   \n",
      "\n",
      "🏃 View run bald-crane-809 at: http://127.0.0.1:5000/#/experiments/788866539863749456/runs/2a74934d1fb541c2a670c909596dddc1\n",
      "\n",
      "🧪 View experiment at: http://127.0.0.1:5000/#/experiments/788866539863749456   \n",
      "\n",
      "🏃 View run enchanting-eel-174 at: http://127.0.0.1:5000/#/experiments/788866539863749456/runs/1a0f54459e8b49b98ca530e4354116fd\n",
      "\n",
      "🧪 View experiment at: http://127.0.0.1:5000/#/experiments/788866539863749456   \n",
      "\n",
      "🏃 View run gaudy-mole-127 at: http://127.0.0.1:5000/#/experiments/788866539863749456/runs/eebcb790cd5a484481008a79e6f7fd92\n",
      "\n",
      "🧪 View experiment at: http://127.0.0.1:5000/#/experiments/788866539863749456   \n",
      "\n",
      "🏃 View run able-carp-741 at: http://127.0.0.1:5000/#/experiments/788866539863749456/runs/dd48ea94ddee4792afe21372cd8a9433\n",
      "\n",
      "🧪 View experiment at: http://127.0.0.1:5000/#/experiments/788866539863749456   \n",
      "\n",
      "🏃 View run enthused-sponge-410 at: http://127.0.0.1:5000/#/experiments/788866539863749456/runs/168fbe14417c4bd0a73fda0bc47277c3\n",
      "\n",
      "🧪 View experiment at: http://127.0.0.1:5000/#/experiments/788866539863749456   \n",
      "\n",
      "🏃 View run caring-smelt-352 at: http://127.0.0.1:5000/#/experiments/788866539863749456/runs/5e1b7b01b2ef41b1b9a0e0b0281c437e\n",
      "\n",
      "🧪 View experiment at: http://127.0.0.1:5000/#/experiments/788866539863749456   \n",
      "\n",
      "🏃 View run painted-rat-954 at: http://127.0.0.1:5000/#/experiments/788866539863749456/runs/e54007a903264514ab317492c20823ea\n",
      "\n",
      "🧪 View experiment at: http://127.0.0.1:5000/#/experiments/788866539863749456   \n",
      "\n",
      "🏃 View run merciful-auk-43 at: http://127.0.0.1:5000/#/experiments/788866539863749456/runs/517249711fe746ab8df97a838aacad3f\n",
      "\n",
      "🧪 View experiment at: http://127.0.0.1:5000/#/experiments/788866539863749456   \n",
      "\n",
      "🏃 View run rogue-dolphin-761 at: http://127.0.0.1:5000/#/experiments/788866539863749456/runs/9b1e4980f84e4d58913eb1dc8ad2c2b2\n",
      "\n",
      "🧪 View experiment at: http://127.0.0.1:5000/#/experiments/788866539863749456   \n",
      "\n",
      "🏃 View run monumental-rat-82 at: http://127.0.0.1:5000/#/experiments/788866539863749456/runs/42c32ecf672e4651ba4aa02fb87e83b1\n",
      "\n",
      "🧪 View experiment at: http://127.0.0.1:5000/#/experiments/788866539863749456   \n",
      "\n",
      "🏃 View run polite-foal-704 at: http://127.0.0.1:5000/#/experiments/788866539863749456/runs/8f55a949b4e447c7af35c62649385273\n",
      "\n",
      "🧪 View experiment at: http://127.0.0.1:5000/#/experiments/788866539863749456   \n",
      "\n",
      "🏃 View run capricious-worm-768 at: http://127.0.0.1:5000/#/experiments/788866539863749456/runs/f77f6c74e9f640eeb22af2ab2457d041\n",
      "\n",
      "🧪 View experiment at: http://127.0.0.1:5000/#/experiments/788866539863749456   \n",
      "\n",
      "🏃 View run peaceful-cow-971 at: http://127.0.0.1:5000/#/experiments/788866539863749456/runs/afeb1de13bfa4fada52a945e3f7eb27b\n",
      "\n",
      "🧪 View experiment at: http://127.0.0.1:5000/#/experiments/788866539863749456   \n",
      "\n",
      "100%|██████████| 15/15 [01:02<00:00,  4.18s/trial, best loss: 5.335419588556921]\n"
     ]
    }
   ],
   "source": [
    "!python hpo.py"
   ]
  },
  {
   "cell_type": "markdown",
   "id": "83047ec7",
   "metadata": {},
   "source": [
    "The best validation RMSE is 5.335\n",
    "<img src=\"../imgs/hw2_q5.png\">"
   ]
  },
  {
   "cell_type": "markdown",
   "id": "3b21b3ec",
   "metadata": {},
   "source": [
    "# Q6. Promote the best model to the model registry"
   ]
  },
  {
   "cell_type": "code",
   "execution_count": 2,
   "id": "6689560d",
   "metadata": {},
   "outputs": [],
   "source": [
    "!python register_model.py"
   ]
  }
 ],
 "metadata": {
  "kernelspec": {
   "display_name": "hw2",
   "language": "python",
   "name": "python3"
  },
  "language_info": {
   "codemirror_mode": {
    "name": "ipython",
    "version": 3
   },
   "file_extension": ".py",
   "mimetype": "text/x-python",
   "name": "python",
   "nbconvert_exporter": "python",
   "pygments_lexer": "ipython3",
   "version": "3.9.21"
  }
 },
 "nbformat": 4,
 "nbformat_minor": 5
}
